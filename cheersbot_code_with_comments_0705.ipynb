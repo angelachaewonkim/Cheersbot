{
  "nbformat": 4,
  "nbformat_minor": 0,
  "metadata": {
    "kernelspec": {
      "display_name": "Python 3",
      "language": "python",
      "name": "python3"
    },
    "language_info": {
      "codemirror_mode": {
        "name": "ipython",
        "version": 3
      },
      "file_extension": ".py",
      "mimetype": "text/x-python",
      "name": "python",
      "nbconvert_exporter": "python",
      "pygments_lexer": "ipython3",
      "version": "3.6.9"
    },
    "colab": {
      "name": "cheersbot_code_with_comments.ipynb의 사본",
      "provenance": []
    }
  },
  "cells": [
    {
      "cell_type": "code",
      "metadata": {
        "id": "ArhuUSevQCEu",
        "colab_type": "code",
        "colab": {}
      },
      "source": [
        "# for ObjectDetect, import the 'ObjectDetector' function from jetbot module\n",
        "from jetbot import ObjectDetector\n",
        "\n",
        "#'ssd_mobilenet_v2_coco.engine' dataset is needed to build the Tensorflow model\n",
        "#before running this code, you have to download the 'ssd_mobilenet_v2_coco.engine' \n",
        "#this model can detect 90 different common objects\n",
        "model = ObjectDetector('ssd_mobilenet_v2_coco.engine')"
      ],
      "execution_count": null,
      "outputs": []
    },
    {
      "cell_type": "code",
      "metadata": {
        "id": "nI98QRhwQCE4",
        "colab_type": "code",
        "colab": {}
      },
      "source": [
        "# import the 'Camera' function from jetbot module\n",
        "from jetbot import Camera\n",
        "\n",
        "# make the camera instance\n",
        "camera = Camera.instance(width=300, height=300)"
      ],
      "execution_count": null,
      "outputs": []
    },
    {
      "cell_type": "code",
      "metadata": {
        "id": "dHWJ-XgoQCFD",
        "colab_type": "code",
        "colab": {}
      },
      "source": [
        "#initialize the image number and object number\n",
        "image_number = 0\n",
        "object_number = 0"
      ],
      "execution_count": null,
      "outputs": []
    },
    {
      "cell_type": "code",
      "metadata": {
        "id": "sUG5_8bzTJM4",
        "colab_type": "code",
        "colab": {}
      },
      "source": [
        "import numpy as np\n",
        "for i in np.arange(0,5):\n",
        "    #the model receive the image value of the camera instance and save it to 'detections'\n",
        "    detections = model(camera.value)\n",
        "    \n",
        "    #this code prints the results of the detection as the label.\n",
        "    #if you want to know which label means which object, refer to this link: https://github.com/tensorflow/models/blob/master/research/object_detection/data/mscoco_complete_label_map.pbtxt\n",
        "    print(detections[image_number][object_number]['label'])"
      ],
      "execution_count": null,
      "outputs": []
    },
    {
      "cell_type": "code",
      "metadata": {
        "id": "Rr_FBp8BaOyv",
        "colab_type": "code",
        "colab": {}
      },
      "source": [
        "import sys\n",
        "#to use the snowboy, please add the path that contains snowboydecoder.py file.\n",
        "sys.path.append('/home/jetbot/snowboy/examples/Python3')\n",
        "import snowboydecoder\n",
        "import signal\n",
        "from jetbot import Robot\n",
        "import time\n",
        "#import the pydub to play the .wav files\n",
        "from pydub import AudioSegment\n",
        "from pydub.playback import play\n",
        "import FaBo9Axis_MPU9250"
      ],
      "execution_count": null,
      "outputs": []
    },
    {
      "cell_type": "code",
      "metadata": {
        "id": "eG3gnOZNaOtk",
        "colab_type": "code",
        "colab": {}
      },
      "source": [
        "#make the robot instance\n",
        "robot = Robot()\n",
        "#in  detector.start() function, detected_callback receives 'interrupted'\n",
        "#if interrupted=True, then the loop of detector.start() is terminated\n",
        "interrupted = False "
      ],
      "execution_count": null,
      "outputs": []
    },
    {
      "cell_type": "code",
      "metadata": {
        "id": "8k77eRoEaX1_",
        "colab_type": "code",
        "colab": {}
      },
      "source": [
        "def signal_handler(signal, frame):\n",
        "    global interrupted\n",
        "    interrupted = True\n",
        "\n",
        "def interrupt_callback():\n",
        "    global interrupted\n",
        "    return interrupted"
      ],
      "execution_count": null,
      "outputs": []
    },
    {
      "cell_type": "code",
      "metadata": {
        "id": "gPWzGXVTeBUB",
        "colab_type": "code",
        "colab": {}
      },
      "source": [
        "#pmdl models for snowboy hotward detection\n",
        "#howmuch_zzan was trained by the sentence- 'how much cheers?(몇 잔이야?)'\n",
        "#zzanhalgga was trained by the sentence- 'shall we cheers?(우리 짠할까?)'\n",
        "#these models were trained in Korean\n",
        "models = ['howmuch_zzan.pmdl', 'zzanhalgga.pmdl']"
      ],
      "execution_count": null,
      "outputs": []
    },
    {
      "cell_type": "code",
      "metadata": {
        "id": "dWxnO3iSeCrU",
        "colab_type": "code",
        "colab": {}
      },
      "source": [
        "#play the .wav file according to the number of 'cheers'\n",
        "#when snowboy detect the hotword 'how much cheers?(몇 잔이야?)' then, this function is executed.\n",
        "def howmuch(i):\n",
        "    if(i==1):\n",
        "        song = AudioSegment.from_wav(\"1zzan.wav\")\n",
        "        play(song)\n",
        "        global interrupted\n",
        "        #play the wav file and change the interrupted as True\n",
        "        #when it is True then detector.start() loop is terminated.\n",
        "        interrupted=True\n",
        "    elif(i==2):\n",
        "        song = AudioSegment.from_wav(\"2zzan.wav\")\n",
        "        play(song)\n",
        "        interrupted=True\n",
        "    elif(i==3):\n",
        "        song = AudioSegment.from_wav(\"3zzan.wav\")\n",
        "        play(song)\n",
        "        interrupted=True\n",
        "    elif(i==4):\n",
        "        song = AudioSegment.from_wav(\"4zzan.wav\")\n",
        "        play(song)\n",
        "        interrupted=True\n",
        "    elif(i==5):\n",
        "        song = AudioSegment.from_wav(\"5zzan.wav\")\n",
        "        play(song)\n",
        "        interrupted=True\n",
        "    else:\n",
        "        song = AudioSegment.from_wav(\"stopdrinking.wav\")\n",
        "        play(song)\n",
        "        print('stop drinking!')\n",
        "        interrupted=True\n",
        "\n",
        "#when the snowboy detects hotword 'shall we cheers?(우리 짠할까?)', then this function is executed.       \n",
        "def zzanhalgga(i):\n",
        "    if(i<6):\n",
        "        song=AudioSegment.from_wav(\"goodwork.wav\")\n",
        "        play(song)\n",
        "        global interrupted\n",
        "        interrupted=True\n",
        "    else:\n",
        "        #if the number of cheers is more than 5, then cheersbot says 'stop drinking!'\n",
        "        song = AudioSegment.from_wav(\"stopdrinking.wav\")\n",
        "        play(song)\n",
        "        print('stop drinking!')\n",
        "        interrupted=True        \n",
        "    "
      ],
      "execution_count": null,
      "outputs": []
    },
    {
      "cell_type": "code",
      "metadata": {
        "id": "4zcygADuQCF2",
        "colab_type": "code",
        "colab": {},
        "outputId": "368e5daa-359b-40f3-efc7-c46fdf15068a"
      },
      "source": [
        "# capture SIGINT signal, e.g., Ctrl+c\n",
        "signal.signal(signal.SIGINT, signal_handler)\n",
        "\n",
        "#The bigger the value, the more senstive the decoder. \n",
        "#If an empty list is provided, then the default sensitivity in the model will be used.\n",
        "sensitivity = [0.5]\n",
        "\n",
        "#detect hotword(pre-trained sentence) using model('howmuch_zzan.pmdl' and 'zzanhalgga.pmdl')\n",
        "detector = snowboydecoder.HotwordDetector(models, sensitivity=sensitivity)\n",
        "\n",
        "#each function receives the number of cheers and returns the state of 'interrutped'\n",
        "callbacks = [lambda: howmuch(i),\n",
        "             lambda: zzanhalgga(i)]\n",
        "\n",
        "#initialize the number of cheers(i) as 1\n",
        "i=1\n",
        "#There are 10 iterations, you can freely adjust it\n",
        "while(i!=11):\n",
        "    if(i<6):\n",
        "        robot = Robot() #make robot instance\n",
        "        detections = model(camera.value) #store the results of object detection using the pre-trained pytorch model\n",
        "        #initialize image number and object number\n",
        "        image_number = 0\n",
        "        object_number = 0\n",
        "        \n",
        "        #if the detected objects is 1(person's hand) and 47(cup) then it moves forward\n",
        "        if((detections[image_number][object_number]['label']==1)|(detections[image_number][object_number]['label']==47)):\n",
        "                                    \n",
        "            if(i==3):\n",
        "                song=AudioSegment.from_wav(\"letszzan.wav\")\n",
        "                play(song)\n",
        "                \n",
        "            robot.forward(0.2)\n",
        "            time.sleep(1.0)\n",
        "            robot.stop()\n",
        "\n",
        "            #make the MPU9250 instance to read the MPU9250 sensor\n",
        "            mpu9250 = FaBo9Axis_MPU9250.MPU9250()\n",
        "            #read accelorometer data\n",
        "            accel=mpu9250.readAccel()\n",
        "\n",
        "            #read the accel data until the value is less than specific thershold\n",
        "            #we set this threshold through several trials\n",
        "            #if 'cheers' interaction occurs, then while loop is terminated\n",
        "            while((abs(accel['x'])<0.2)|(abs(accel['z'])<0.2)):\n",
        "                accel=mpu9250.readAccel()\n",
        "\n",
        "            #Print 'Cheers!' to check the accelorometer value is more than threshold\n",
        "            print('Cheers!')\n",
        "            #Cheersbot moves backward, and one 'Cheers' interaction is completed\n",
        "            robot.backward(0.2)\n",
        "            time.sleep(1.0)\n",
        "            robot.stop()\n",
        "\n",
        "            #These are the auditory feedbacs after cheers interaction\n",
        "            #Depending on the number of cheers, the types of feedback are different\n",
        "            if(i%2==0):\n",
        "                song = AudioSegment.from_wav(\"zzan.wav\")\n",
        "                play(song)\n",
        "            else:\n",
        "                song = AudioSegment.from_wav(\"hardtime.wav\")\n",
        "                play(song)\n",
        "        \n",
        "            #The snoyboy detector starts to listen hotword sentences\n",
        "            #If the sentence is 'How much cheers?(몇 잔?)', then howmuch() function in callbacks is executed, and passed to detected_callback\n",
        "            #Else if the sentence is 'Shall we cheers?(우리 짠할까?)' then zzanhalgga() function is executed, and passed to detected_callback         \n",
        "            print('Listening... Press Ctrl+C to exit')\n",
        "            detector.start(detected_callback=callbacks, interrupt_check=interrupt_callback,sleep_time=0.03)\n",
        "            #If each function return 'interrupted' as True, then detector.start() loop is terminated\n",
        "            detector.terminate()\n",
        "            #Set 'interrupted' as False again for iteration\n",
        "            interrupted=False\n",
        "            #count the number of cheers\n",
        "            i=i+1\n",
        "\n",
        "        #If the detected object is not person's hand of glass, then the number of cheers is not counted\n",
        "        #And return to the first part of while loop    \n",
        "        else: i=i;\n",
        "\n",
        "\n",
        "    #if the number of cheers is more than 5, then Cheersbot reject my cheers    \n",
        "    else:\n",
        "        #When the snoyboy detector detects sentence as 'How much cheers?' or 'Shall we cheers?' then it says 'stop drinking!' \n",
        "        print('Listening... Press Ctrl+C to exit')\n",
        "        detector.start(detected_callback=callbacks, interrupt_check=interrupt_callback,sleep_time=0.03)\n",
        "        detector.terminate()\n",
        "        interrupted=False\n",
        "        #Cheersbot shakes its body\n",
        "        robot.left(0.3)\n",
        "        time.sleep(0.5)\n",
        "        robot.stop()\n",
        "        robot.right(0.4)\n",
        "        time.sleep(0.5)\n",
        "        robot.stop()\n",
        "        robot.left(0.3)\n",
        "        time.sleep(0.5)\n",
        "        robot.stop()\n",
        "        robot.right(0.4)\n",
        "        time.sleep(0.5)\n",
        "        robot.stop()\n",
        "        i=i+1"
      ],
      "execution_count": null,
      "outputs": [
        {
          "output_type": "stream",
          "text": [
            "1\n",
            "Cheers!\n",
            "Listening... Press Ctrl+C to exit\n"
          ],
          "name": "stdout"
        },
        {
          "output_type": "stream",
          "text": [
            "INFO:snowboy:Keyword 2 detected at time: 2020-06-26 03:02:36\n"
          ],
          "name": "stderr"
        },
        {
          "output_type": "stream",
          "text": [
            "1\n",
            "Cheers!\n",
            "Listening... Press Ctrl+C to exit\n"
          ],
          "name": "stdout"
        },
        {
          "output_type": "stream",
          "text": [
            "INFO:snowboy:Keyword 2 detected at time: 2020-06-26 03:02:46\n"
          ],
          "name": "stderr"
        },
        {
          "output_type": "stream",
          "text": [
            "1\n",
            "Cheers!\n",
            "Listening... Press Ctrl+C to exit\n"
          ],
          "name": "stdout"
        },
        {
          "output_type": "stream",
          "text": [
            "INFO:snowboy:Keyword 2 detected at time: 2020-06-26 03:03:02\n"
          ],
          "name": "stderr"
        },
        {
          "output_type": "stream",
          "text": [
            "1\n",
            "Cheers!\n",
            "Listening... Press Ctrl+C to exit\n"
          ],
          "name": "stdout"
        },
        {
          "output_type": "stream",
          "text": [
            "INFO:snowboy:Keyword 2 detected at time: 2020-06-26 03:03:13\n"
          ],
          "name": "stderr"
        },
        {
          "output_type": "stream",
          "text": [
            "44\n",
            "1\n",
            "Cheers!\n",
            "Listening... Press Ctrl+C to exit\n"
          ],
          "name": "stdout"
        },
        {
          "output_type": "stream",
          "text": [
            "INFO:snowboy:Keyword 1 detected at time: 2020-06-26 03:03:24\n"
          ],
          "name": "stderr"
        },
        {
          "output_type": "stream",
          "text": [
            "Listening... Press Ctrl+C to exit\n"
          ],
          "name": "stdout"
        },
        {
          "output_type": "stream",
          "text": [
            "INFO:snowboy:Keyword 1 detected at time: 2020-06-26 03:03:42\n"
          ],
          "name": "stderr"
        },
        {
          "output_type": "stream",
          "text": [
            "stop drinking!\n",
            "Listening... Press Ctrl+C to exit\n"
          ],
          "name": "stdout"
        },
        {
          "output_type": "stream",
          "text": [
            "INFO:snowboy:Keyword 2 detected at time: 2020-06-26 03:03:48\n"
          ],
          "name": "stderr"
        },
        {
          "output_type": "stream",
          "text": [
            "stop drinking!\n"
          ],
          "name": "stdout"
        }
      ]
    },
    {
      "cell_type": "code",
      "metadata": {
        "id": "5qIY5IGZQCGI",
        "colab_type": "code",
        "colab": {}
      },
      "source": [
        "#If Cheersbot does not stop although above cell is terminated, please execute this cell\n",
        "#Then it will stop\n",
        "robot.stop()"
      ],
      "execution_count": null,
      "outputs": []
    },
    {
      "cell_type": "code",
      "metadata": {
        "id": "4hNczDO_QCGN",
        "colab_type": "code",
        "colab": {}
      },
      "source": [
        ""
      ],
      "execution_count": null,
      "outputs": []
    }
  ]
}